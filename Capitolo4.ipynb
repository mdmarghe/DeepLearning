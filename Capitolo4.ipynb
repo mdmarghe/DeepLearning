{
  "nbformat": 4,
  "nbformat_minor": 0,
  "metadata": {
    "colab": {
      "provenance": [],
      "authorship_tag": "ABX9TyOpU4b6EVmPTLSoL2TlyXVX",
      "include_colab_link": true
    },
    "kernelspec": {
      "name": "python3",
      "display_name": "Python 3"
    },
    "language_info": {
      "name": "python"
    }
  },
  "cells": [
    {
      "cell_type": "markdown",
      "metadata": {
        "id": "view-in-github",
        "colab_type": "text"
      },
      "source": [
        "<a href=\"https://colab.research.google.com/github/mdmarghe/DeepLearning/blob/main/Capitolo4.ipynb\" target=\"_parent\"><img src=\"https://colab.research.google.com/assets/colab-badge.svg\" alt=\"Open In Colab\"/></a>"
      ]
    },
    {
      "cell_type": "markdown",
      "source": [
        "#Convalida approccio"
      ],
      "metadata": {
        "id": "DAbSaUH5jmKl"
      }
    },
    {
      "cell_type": "markdown",
      "source": [
        "##Convalida hold out\n"
      ],
      "metadata": {
        "id": "4q1Is2B3f2jw"
      }
    },
    {
      "cell_type": "code",
      "execution_count": 1,
      "metadata": {
        "id": "h1BkQZ_CyK88"
      },
      "outputs": [],
      "source": [
        "n_val_samples=10000\n",
        "\n",
        "np.random.shiffle(data)   #è appropriato mescolare i dati\n",
        "\n",
        "validation_data=data[:n_val_samples]  #definizione set di convalida\n",
        "data=data[n_val_samples:]\n",
        "\n",
        "training_data=data[:]     #definizione set di allenamento\n",
        "\n",
        "model=get_model()\n",
        "model.train(training_data)\n",
        "validation_score=model.evaluate(validation_data)  #addestra sui training data e valuta sul set di convalida"
      ]
    },
    {
      "cell_type": "markdown",
      "source": [
        "***ottimizzazione del modello***"
      ],
      "metadata": {
        "id": "kBoRagKSgmer"
      }
    },
    {
      "cell_type": "code",
      "source": [
        "model=get_model()\n",
        "model.train(np.concatenate([training_data,validation_data]))\n",
        "validation_score=model.evaluate(test_data)"
      ],
      "metadata": {
        "id": "X2-mS7v3f_18"
      },
      "execution_count": null,
      "outputs": []
    },
    {
      "cell_type": "markdown",
      "source": [
        "##Convalida K-fold\n"
      ],
      "metadata": {
        "id": "JGB5GPx1g-3X"
      }
    },
    {
      "cell_type": "code",
      "source": [
        "k=4\n",
        "n_val_samples=len(data)//k\n",
        "np.random.shiffle(data)   #è appropriato mescolare i dati\n",
        "\n",
        "validation_scores=[]\n",
        "for fold in range(k):\n",
        "  validation_data=data[n_val_samples*fold:n_val_samples*(fold+1)]\n",
        "  training_data=data[:n_val_samples*fold]+data[n_val_samples*(fold+1):]\n",
        "\n",
        "  model=get_model()\n",
        "  model.train(training_data)\n",
        "  validation_score=model.evaluate(validation_data)\n",
        "  validation_scores.append(validation_score)\n",
        "\n",
        "validation_score=np.average(validation_scores) #media dei punteggi di convalida delle k partizioni\n"
      ],
      "metadata": {
        "id": "i6NOPrKnhBgp"
      },
      "execution_count": null,
      "outputs": []
    },
    {
      "cell_type": "markdown",
      "source": [
        "***ottimizzazione del modello***"
      ],
      "metadata": {
        "id": "NBeirCHSjOhG"
      }
    },
    {
      "cell_type": "code",
      "source": [
        "model=get_model()\n",
        "model.train(data)\n",
        "validation_score=model.evaluate(test_data)"
      ],
      "metadata": {
        "id": "lcgnx4B1jPFg"
      },
      "execution_count": null,
      "outputs": []
    },
    {
      "cell_type": "markdown",
      "source": [
        "##Convalida K-fold iterata con shuffling\n"
      ],
      "metadata": {
        "id": "KjdOZyVEjpx0"
      }
    },
    {
      "cell_type": "markdown",
      "source": [
        "Consiste nell'applicare la convalida k-fold più votle, mescolando prima della suddivisione in K set.\n",
        "Il punteggio finale è la media dei punteggi ottenuti a ogni turno della convalida K-fold. Se le iterazioni svolte dal modello è identificato da P allora per validare il modello avremo bisogno di P*K operazioni (può diventare un numero molto grande)"
      ],
      "metadata": {
        "id": "3D3tejWij2z9"
      }
    },
    {
      "cell_type": "markdown",
      "source": [
        "#Pre elaborazione dei dati"
      ],
      "metadata": {
        "id": "lFjPONgulIyg"
      }
    },
    {
      "cell_type": "markdown",
      "source": [
        "Prendere dati grezzi per renderli più adatti alle reti neurali\n",
        "In particolare i dati dovrebbero avere le seguenti caratteristiche:\n",
        "\n",
        "*   Assumere valori piccoli\n",
        "*   Essere omogenei\n",
        "\n",
        "Non sempre è necessaria, ma fortemente consigliata è la normalizzazione\n",
        "\n"
      ],
      "metadata": {
        "id": "N5nX-5Etlc11"
      }
    },
    {
      "cell_type": "code",
      "source": [],
      "metadata": {
        "id": "dM_42BKaj2mK"
      },
      "execution_count": null,
      "outputs": []
    },
    {
      "cell_type": "code",
      "source": [],
      "metadata": {
        "id": "qep2H8CBjwa1"
      },
      "execution_count": null,
      "outputs": []
    }
  ]
}