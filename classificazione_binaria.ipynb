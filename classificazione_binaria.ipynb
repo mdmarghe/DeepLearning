{
 "cells": [
  {
   "cell_type": "markdown",
   "id": "e70d5528",
   "metadata": {},
   "source": [
    "Layers\n",
    "Dati di input con i relativi target\n",
    "Funzione obiettivo (per definire il segnale di feedback)\n",
    "Ottimizzatore (come orientare l'apprendimento)\n"
   ]
  },
  {
   "cell_type": "code",
   "execution_count": null,
   "id": "e4ed68f0",
   "metadata": {
    "vscode": {
     "languageId": "plaintext"
    }
   },
   "outputs": [],
   "source": []
  },
  {
   "cell_type": "markdown",
   "id": "f90b11b2",
   "metadata": {},
   "source": []
  }
 ],
 "metadata": {
  "language_info": {
   "name": "python"
  }
 },
 "nbformat": 4,
 "nbformat_minor": 5
}
