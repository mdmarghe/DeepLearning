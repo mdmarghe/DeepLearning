{
 "cells": [
  {
   "cell_type": "markdown",
   "id": "e70d5528",
   "metadata": {},
   "source": [
    "#LAYERS\n",
    "layer con o senza stato \n",
    "layer densamente connessi: classe Dense di Keras, adatti a elaborare tensori 2D di forma (samples, features)\n",
    "layer ricorrenti:es LSTM, adatti a tensori 3D con un timestamp\n",
    "layer convolutivi 2D: Conv2D in Keras, adatti ad elaborare immagini o cmq tensori 4D. \n",
    "i layer devono essere compatibili tra loro, l'output di un layer deve essere di tipo compatibile con quello dell'input del layer successivo, affinchè creino pipeline di trasformazione dei dati.\n",
    "Vediamo un layer denso con 32 unità di op."
   ]
  },
  {
   "cell_type": "code",
   "execution_count": null,
   "id": "397b2b9c",
   "metadata": {
    "vscode": {
     "languageId": "plaintext"
    }
   },
   "outputs": [],
   "source": [
    "from keras import layers\n",
    "layer = layers.Dense(32, input_shape=(784,))"
   ]
  },
  {
   "cell_type": "markdown",
   "id": "e7f37424",
   "metadata": {},
   "source": [
    "Keras è intelligente tuttavia:"
   ]
  },
  {
   "cell_type": "code",
   "execution_count": null,
   "id": "17ebdbad",
   "metadata": {
    "vscode": {
     "languageId": "plaintext"
    }
   },
   "outputs": [],
   "source": [
    "model=models.Sequential()\n",
    "model.add(layers.Dense(32, input_shape=(784,)))\n",
    "model.add(layers.Dense(32)) #senza mettere input_shape conosce dinamicamente la dimensione dell'ip."
   ]
  },
  {
   "cell_type": "markdown",
   "id": "7fb7e789",
   "metadata": {},
   "source": [
    "#MODELLI\n",
    "reti di layer\n",
    "un modello di dl è un grafo diretto e aciclico di layer. \n",
    "diverse topologie di reti. \n",
    "-a 2 rami \n",
    "-multihead\n",
    "-inception block\n",
    "la topologia della rete definisce uno spazio delle ipotesi"
   ]
  },
  {
   "cell_type": "markdown",
   "id": "f90b11b2",
   "metadata": {},
   "source": [
    "Dati di input con i relativi target\n",
    "Funzione obiettivo (per definire il segnale di feedback)\n",
    "Ottimizzatore (come orientare l'apprendimento)\n"
   ]
  }
 ],
 "metadata": {
  "language_info": {
   "name": "python"
  }
 },
 "nbformat": 4,
 "nbformat_minor": 5
}
