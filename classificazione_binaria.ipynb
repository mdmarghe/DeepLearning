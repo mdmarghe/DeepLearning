{
 "cells": [
  {
   "cell_type": "markdown",
   "id": "e70d5528",
   "metadata": {},
   "source": [
    "#LAYERS\n",
    "layer con o senza stato \n",
    "layer densamente connessi: classe Dense di Keras, adatti a elaborare tensori 2D di forma (samples, features)\n",
    "layer ricorrenti:es LSTM, adatti a tensori 3D con un timestamp\n",
    "layer convolutivi 2D: Conv2D in Keras, adatti ad elaborare immagini o cmq tensori 4D. \n",
    "i layer devono essere compatibili tra loro, l'output di un layer deve essere di tipo compatibile con quello dell'input del layer successivo, affinchè creino pipeline di trasformazione dei dati.\n",
    "Vediamo un layer denso con 32 unità di op."
   ]
  },
  {
   "cell_type": "code",
   "execution_count": null,
   "id": "397b2b9c",
   "metadata": {},
   "outputs": [],
   "source": [
    "from keras import layers\n",
    "layer = layers.Dense(32, input_shape=(784,))"
   ]
  },
  {
   "cell_type": "markdown",
   "id": "e7f37424",
   "metadata": {},
   "source": [
    "Keras è intelligente tuttavia:"
   ]
  },
  {
   "cell_type": "code",
   "execution_count": null,
   "id": "17ebdbad",
   "metadata": {},
   "outputs": [],
   "source": [
    "model=models.Sequential()\n",
    "model.add(layers.Dense(32, input_shape=(784,)))\n",
    "model.add(layers.Dense(32)) #senza mettere input_shape conosce dinamicamente la dimensione dell'ip."
   ]
  },
  {
   "cell_type": "markdown",
   "id": "7fb7e789",
   "metadata": {},
   "source": [
    "#MODELLI\n",
    "reti di layer\n",
    "un modello di dl è un grafo diretto e aciclico di layer. \n",
    "diverse topologie di reti. \n",
    "-a 2 rami \n",
    "-multihead\n",
    "-inception block\n",
    "la topologia della rete definisce uno spazio delle ipotesi"
   ]
  },
  {
   "cell_type": "markdown",
   "id": "f90b11b2",
   "metadata": {},
   "source": [
    "Dati di input con i relativi target\n",
    "Funzione obiettivo (per definire il segnale di feedback)\n",
    "Ottimizzatore (come orientare l'apprendimento)\n"
   ]
  },
  {
   "cell_type": "code",
   "execution_count": 21,
   "id": "5601332b",
   "metadata": {},
   "outputs": [
    {
     "name": "stderr",
     "output_type": "stream",
     "text": [
      "/workspaces/DeepLearning/DeepLearning/lib/python3.12/site-packages/keras/src/layers/core/dense.py:93: UserWarning: Do not pass an `input_shape`/`input_dim` argument to a layer. When using Sequential models, prefer using an `Input(shape)` object as the first layer in the model instead.\n",
      "  super().__init__(activity_regularizer=activity_regularizer, **kwargs)\n"
     ]
    }
   ],
   "source": [
    "\n",
    "from keras import models, layers\n",
    "\n",
    "model=models.Sequential()\n",
    "model.add(layers.Dense(32,activation='relu', input_shape=(784,)))\n",
    "model.add(layers.Dense(10, activation='softmax'))  # 1 output per classificazione binaria\n"
   ]
  },
  {
   "cell_type": "markdown",
   "id": "62226a0e",
   "metadata": {},
   "source": [
    "Con Api Funzionale:"
   ]
  },
  {
   "cell_type": "code",
   "execution_count": 22,
   "id": "0bff5ef5",
   "metadata": {},
   "outputs": [],
   "source": [
    "input_tensor= layers.Input(shape=(784,))\n",
    "x= layers.Dense(32,activation='relu')(input_tensor) \n",
    "output_tensor=layers.Dense(10,activation='softmax')(x)\n",
    "\n",
    "modelAPI = models.Model(inputs=input_tensor, outputs=output_tensor)\n"
   ]
  },
  {
   "cell_type": "code",
   "execution_count": 24,
   "id": "ac3424b0",
   "metadata": {},
   "outputs": [],
   "source": [
    "from keras import optimizers\n",
    "\n",
    "model.compile(optimizer=optimizers.RMSprop(learning_rate=0.001),loss='mse',metrics=['accuracy'])\n",
    "modelAPI.compile(optimizer=optimizers.RMSprop(learning_rate=0.001),loss='mse', metrics=['accuracy'])\n"
   ]
  },
  {
   "cell_type": "code",
   "execution_count": null,
   "id": "0ccdc174",
   "metadata": {},
   "outputs": [],
   "source": [
    "model.fit(input_tensor, target_tensor, batch_size=128, epochs=10)"
   ]
  }
 ],
 "metadata": {
  "kernelspec": {
   "display_name": "DeepLearning",
   "language": "python",
   "name": "python3"
  },
  "language_info": {
   "codemirror_mode": {
    "name": "ipython",
    "version": 3
   },
   "file_extension": ".py",
   "mimetype": "text/x-python",
   "name": "python",
   "nbconvert_exporter": "python",
   "pygments_lexer": "ipython3",
   "version": "3.12.1"
  }
 },
 "nbformat": 4,
 "nbformat_minor": 5
}
