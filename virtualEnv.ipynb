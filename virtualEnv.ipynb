{
 "cells": [
  {
   "cell_type": "code",
   "execution_count": null,
   "id": "9baa6110",
   "metadata": {
    "vscode": {
     "languageId": "plaintext"
    }
   },
   "outputs": [],
   "source": [
    "conda create -n myenv python=3.10 pandas jupyter seaborn scikit-learn keras tensorflow\n",
    "# To activate this environment, use                                                                                                                                  \n",
    "#                                                                                                                                                                    \n",
    "#     $ conda activate myenv                                                                                                                                         \n",
    "#                                                                                                                                                                    \n",
    "# To deactivate an active environment, use                                                                                                                           \n",
    "#                                                                                                                                                                    \n",
    "#     $ conda deactivate"
   ]
  },
  {
   "cell_type": "markdown",
   "id": "9195f1b0",
   "metadata": {},
   "source": [
    "python -m venv DeepLearning #crea ambietne nella cartella\n",
    "source DeepLearning/bin/activate # attivare l ambiente\n",
    "deactivate \n",
    "# If your virtual environment is in a directory called 'venv':\n",
    "rm -r venv\n"
   ]
  }
 ],
 "metadata": {
  "language_info": {
   "name": "python"
  }
 },
 "nbformat": 4,
 "nbformat_minor": 5
}
