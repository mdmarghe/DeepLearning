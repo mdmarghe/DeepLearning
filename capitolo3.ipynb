from keras import layers

layer = layers.Dense(32, input_shape(784,)). #layer denso con 32 unità di op

from keras import models

model=models.Sequential()
model.add(layers.Dense(32, input_shape(784,)))
model.add(layers.Dense(32))